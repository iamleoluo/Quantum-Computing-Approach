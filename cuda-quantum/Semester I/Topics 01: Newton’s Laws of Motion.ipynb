{
 "cells": [
  {
   "cell_type": "markdown",
   "metadata": {},
   "source": [
    "# Topics 01: Newton's Laws of Motion\n",
    "\n",
    "---\n",
    "\n",
    "### Classical Physics Topic: Newton's Laws of Motion\n",
    "\n",
    "### Classical Physics Explanation\n",
    "\n",
    "**Newton's laws of motion** describe the relationship between a physical object and the forces acting on it and its motion in response to those forces. These three laws form the foundation of classical mechanics:\n",
    "\n",
    "1. **First Law (Inertia)**: An object will remain at rest or in uniform motion unless acted upon by a net external force.\n",
    "\n",
    "2. **Second Law (F=ma)**: The acceleration of an object is proportional to the net force acting on it and inversely proportional to its mass, F=ma.\n",
    "\n",
    "3. **Third Law (Action-Reaction)**: For every action, there is an equal and opposite reaction.\n",
    "\n",
    "In quantum mechanics, **momentum** and **force** are quantized, and quantum states can be used to represent the position and momentum of particles. By using quantum gates and qubits, we can model the effects of forces on a quantum particle and simulate the changes in motion as dictated by Newton's laws."
   ]
  },
  {
   "cell_type": "markdown",
   "metadata": {},
   "source": [
    "### Quantum Computing Approach\n",
    "\n",
    "In quantum computing, qubits can represent the **position** and **momentum** of a particle, and quantum gates can be used to simulate the **forces** acting on the particle. The evolution of the qubit's state under these forces can be used to model **Newton’s second law** by simulating how the quantum state (analogous to velocity or momentum) evolves under the influence of force (quantum gates).\n",
    "\n",
    "By applying **Hadamard gates**, **Pauli-X gates**, and **Phase gates**, we can simulate an object’s response to a force and observe how its motion changes over time.\n",
    "\n",
    "---\n",
    "\n",
    "### Qiskit Program to Simulate Newton’s Second Law (F = ma)\n",
    "\n",
    "In this Qiskit program, we will simulate **Newton’s second law of motion** using qubits. The qubit will represent the momentum of a particle, and quantum gates will simulate the forces acting on it. We will observe how the quantum state evolves in response to these forces and how the object’s motion changes."
   ]
  },
  {
   "cell_type": "markdown",
   "metadata": {},
   "source": [
    "### Step 1: Create the Quantum Circuit\n",
    "\n",
    "- We start by creating a quantum circuit with **1 qubit**. The qubit will represent the **momentum** or **velocity** of an object, and its state will evolve based on the forces acting on the system (simulated by quantum gates)."
   ]
  },
  {
   "cell_type": "code",
   "execution_count": 19,
   "metadata": {},
   "outputs": [],
   "source": [
    "import cudaq\n",
    "import numpy as np\n",
    "\n",
    "# Create a CUDA Quantum circuit\n",
    "cudaq_circuit = cudaq.make_kernel()\n"
   ]
  },
  {
   "cell_type": "markdown",
   "metadata": {},
   "source": [
    "### Step 2: Initialize the Qubit\n",
    "\n",
    "- We initialize the qubit in the |0⟩ state, representing the **initial velocity or momentum** of the system. In classical terms, this would correspond to the object being at rest (zero initial velocity or momentum)."
   ]
  },
  {
   "cell_type": "code",
   "execution_count": 20,
   "metadata": {},
   "outputs": [],
   "source": [
    "\n",
    "# Define the qubit\n",
    "q = cudaq_circuit.qalloc(1)\n",
    "# Step 1: Initialize the qubit in the |0⟩ state\n",
    "cudaq_circuit.x(q)"
   ]
  },
  {
   "cell_type": "markdown",
   "metadata": {},
   "source": [
    "### Step 3: Apply the Hadamard Gate (H Gate)\n",
    "\n",
    "- A **Hadamard gate** is applied to the qubit, placing it in a **superposition** of |0⟩ and |1⟩. This represents the object gaining momentum or velocity due to applying an external force. The object can now move in both positive and negative directions.\n",
    "\n",
    "$$\n",
    "|\\psi⟩ = \\frac{1}{\\sqrt{2}}(|0⟩ + |1⟩)\n",
    "$$\n",
    "\n",
    "This gate simulates the **acceleration** of the object due to the applied force."
   ]
  },
  {
   "cell_type": "code",
   "execution_count": 21,
   "metadata": {},
   "outputs": [],
   "source": [
    "# Step 2: Apply a Hadamard gate\n",
    "cudaq_circuit.h(q)\n"
   ]
  },
  {
   "cell_type": "markdown",
   "metadata": {},
   "source": [
    "### Step 4: Apply a Phase Gate (P Gate)\n",
    "\n",
    "- A **Phase gate** is applied to introduce a **phase shift** in the qubit’s state, simulating the effect of **force** over time. In classical mechanics, this corresponds to the continuous application of force, which changes the object’s velocity (or momentum) as time progresses.\n",
    "\n",
    "A phase shift of $\\frac{π}{4}$ represents a slight **change in momentum** or **velocity** due to the applied force."
   ]
  },
  {
   "cell_type": "code",
   "execution_count": 22,
   "metadata": {},
   "outputs": [],
   "source": [
    "\n",
    "# Step 3: Apply a Phase gate\n",
    "cudaq_circuit.rz(np.pi/4, q)\n"
   ]
  },
  {
   "cell_type": "markdown",
   "metadata": {},
   "source": [
    "### Step 5: Apply the Pauli-X Gate (X Gate)\n",
    "\n",
    "- The **Pauli-X gate** is applied to flip the qubit’s state, representing the **reaction force** as per **Newton’s third law**. When a force is applied to an object, there is an equal and opposite reaction. This gate simulates the **recoil** or **opposite motion** of the object as a result of the applied force."
   ]
  },
  {
   "cell_type": "code",
   "execution_count": 23,
   "metadata": {},
   "outputs": [],
   "source": [
    "\n",
    "# Step 4: Apply a Pauli-X gate\n",
    "cudaq_circuit.x(q)\n"
   ]
  },
  {
   "cell_type": "markdown",
   "metadata": {},
   "source": [
    "### Step 6: Apply Another Phase Gate\n",
    "\n",
    "- Another **Phase gate** is applied to simulate further **changes in motion** due to the continued application of force. This phase shift corresponds to the object accelerating as the force is applied over a longer period."
   ]
  },
  {
   "cell_type": "code",
   "execution_count": 24,
   "metadata": {},
   "outputs": [],
   "source": [
    "\n",
    "# Step 5: Apply another Phase gate\n",
    "cudaq_circuit.rz(np.pi/4, q)\n"
   ]
  },
  {
   "cell_type": "code",
   "execution_count": 25,
   "metadata": {},
   "outputs": [],
   "source": [
    "# install `qutip` in the current Python kernel. Skip this if `qutip` is already installed.\n",
    "# `matplotlib` is required for all visualization tasks.\n",
    "# Make sure to restart your kernel if you execute this!\n",
    "# In a Jupyter notebook, go to the menu bar > Kernel > Restart Kernel.\n",
    "# In VSCode, click on the Restart button in the Jupyter toolbar.\n",
    "\n",
    "# The '\\' before the '>' operator is so that the shell does not misunderstand\n",
    "# the '>' qualifier for the bash pipe operation.\n",
    "\n",
    "import sys\n",
    "\n",
    "try:\n",
    "    import matplotlib.pyplot as plt\n",
    "    import qutip\n",
    "\n",
    "except ImportError:\n",
    "    print(\"Tools not found, installing. Please restart your kernel after this is done.\")\n",
    "    !{sys.executable} -m pip install qutip\\>=5 matplotlib\\>=3.5\n",
    "    print(\"\\nNew libraries have been installed. Please restart your kernel!\")\n"
   ]
  },
  {
   "cell_type": "code",
   "execution_count": 26,
   "metadata": {},
   "outputs": [
    {
     "name": "stdout",
     "output_type": "stream",
     "text": [
      "Measurement results: { 0:496 1:504 }\n",
      "\n",
      "{ 0:496 1:504 }\n",
      "\n"
     ]
    }
   ],
   "source": [
    "\n",
    "# Step 6: Measure the qubit\n",
    "cudaq_circuit.mz(q)\n",
    "\n",
    "# Run the circuit on the CUDA Quantum simulator\n",
    "result = cudaq.sample(cudaq_circuit)\n",
    "\n",
    "# Print the measurement results\n",
    "print(f\"Measurement results: {result}\")\n",
    "\n",
    "# Plot the histogram of the results\n",
    "print(result)"
   ]
  },
  {
   "cell_type": "code",
   "execution_count": 28,
   "metadata": {},
   "outputs": [
    {
     "name": "stdout",
     "output_type": "stream",
     "text": [
      "     ╭───╮╭───╮╭────────────╮╭───╮╭────────────╮\n",
      "q0 : ┤ x ├┤ h ├┤ rz(0.7854) ├┤ x ├┤ rz(0.7854) ├\n",
      "     ╰───╯╰───╯╰────────────╯╰───╯╰────────────╯\n",
      "\n"
     ]
    }
   ],
   "source": [
    "print(cudaq.draw(cudaq_circuit))"
   ]
  },
  {
   "cell_type": "markdown",
   "metadata": {},
   "source": [
    "### Step 7: Visualize the Bloch Sphere\n",
    "\n",
    "- To visualize the system’s state after applying these quantum gates, we use the **Bloch sphere** representation. The Bloch sphere helps us see the qubit’s state in 3D space, showing how its momentum (or velocity) evolves as force is applied."
   ]
  },
  {
   "cell_type": "code",
   "execution_count": 27,
   "metadata": {},
   "outputs": [
    {
     "ename": "NameError",
     "evalue": "name 'StatevectorSimulator' is not defined",
     "output_type": "error",
     "traceback": [
      "\u001b[0;31m---------------------------------------------------------------------------\u001b[0m",
      "\u001b[0;31mNameError\u001b[0m                                 Traceback (most recent call last)",
      "Cell \u001b[0;32mIn[27], line 2\u001b[0m\n\u001b[1;32m      1\u001b[0m \u001b[38;5;66;03m# Step 7: Visualize the qubit's state on the Bloch sphere to observe the effect of the applied forces\u001b[39;00m\n\u001b[0;32m----> 2\u001b[0m simulator \u001b[38;5;241m=\u001b[39m \u001b[43mStatevectorSimulator\u001b[49m()\n\u001b[1;32m      3\u001b[0m job \u001b[38;5;241m=\u001b[39m simulator\u001b[38;5;241m.\u001b[39mrun(qc)\u001b[38;5;241m.\u001b[39mresult()\n\u001b[1;32m      4\u001b[0m final_state \u001b[38;5;241m=\u001b[39m job\u001b[38;5;241m.\u001b[39mget_statevector()\n",
      "\u001b[0;31mNameError\u001b[0m: name 'StatevectorSimulator' is not defined"
     ]
    }
   ],
   "source": [
    "# Step 7: Visualize the qubit's state on the Bloch sphere to observe the effect of the applied forces\n",
    "simulator = StatevectorSimulator()\n",
    "job = simulator.run(qc).result()\n",
    "final_state = job.get_statevector()\n",
    "\n",
    "plot_bloch_multivector(final_state)\n"
   ]
  },
  {
   "cell_type": "markdown",
   "metadata": {},
   "source": [
    "### Step 8: Measurement\n",
    "\n",
    "- Finally, we measure the qubit to observe the **final momentum state** of the object. The measurement collapses the qubit into either |0⟩ (representing a stationary state) or |1⟩ (representing motion with momentum). This is analogous to observing the object’s velocity or momentum at a particular point after applying the forces."
   ]
  },
  {
   "cell_type": "code",
   "execution_count": null,
   "metadata": {},
   "outputs": [],
   "source": [
    "# Step 8: Measure the qubit to observe the final momentum state\n",
    "qc.measure_all()\n"
   ]
  },
  {
   "cell_type": "markdown",
   "metadata": {},
   "source": [
    "### Step 9: Simulate the Measurement and Plot the Results\n",
    "\n",
    "- We simulate the quantum circuit using the **Qasm simulator**, which runs the circuit multiple times and records the measurement outcomes. The results represent the **probability distribution** of the object being in different momentum states after applying the forces."
   ]
  },
  {
   "cell_type": "code",
   "execution_count": null,
   "metadata": {},
   "outputs": [],
   "source": [
    "# Step 9: Simulate the measurement and plot the results\n",
    "simulator = QasmSimulator()\n",
    "result = simulator.run(qc, shots=1024).result()\n",
    "counts = result.get_counts()\n"
   ]
  },
  {
   "cell_type": "markdown",
   "metadata": {},
   "source": [
    "- Finally, we plot the measurement results using a **histogram** to visualize the probability of the object being in different momentum states."
   ]
  },
  {
   "cell_type": "code",
   "execution_count": null,
   "metadata": {},
   "outputs": [
    {
     "name": "stdout",
     "output_type": "stream",
     "text": [
      "Measurement results: {'1': 513, '0': 511}\n"
     ]
    },
    {
     "data": {
      "image/png": "[encoded data removed]",
      "text/plain": [
       "<Figure size 640x480 with 1 Axes>"
      ]
     },
     "execution_count": 12,
     "metadata": {},
     "output_type": "execute_result"
    }
   ],
   "source": [
    "# Print the measurement results and plot the histogram\n",
    "print(f\"Measurement results: {counts}\")\n",
    "plot_histogram(counts)\n"
   ]
  },
  {
   "cell_type": "code",
   "execution_count": null,
   "metadata": {},
   "outputs": [
    {
     "data": {
      "image/png": "[encoded data removed]",
      "text/plain": [
       "<Figure size 747.609x200.667 with 1 Axes>"
      ]
     },
     "execution_count": 13,
     "metadata": {},
     "output_type": "execute_result"
    }
   ],
   "source": [
    "# Draw the quantum circuit\n",
    "qc.draw(output='mpl')"
   ]
  },
  {
   "cell_type": "markdown",
   "metadata": {},
   "source": [
    "### Classical Physics Parallel\n",
    "\n",
    "In classical physics, **Newton’s second law of motion** describes how the **velocity** or **momentum** of an object changes in response to a force. The force applied to an object causes an acceleration proportional to the force and inversely proportional to the object’s mass. In this Qiskit simulation, we use qubits to model the motion of an object under the influence of force:\n",
    "\n",
    "- The **Hadamard gate** represents the object **gaining momentum** due to the application of force.\n",
    "\n",
    "- The **Phase gate** models the **continuous effect of force** over time, changing the object’s motion.\n",
    "\n",
    "- The **Pauli-X gate** simulates the **reaction force** per Newton’s third law, where the object moves in the opposite direction due to the applied force.\n",
    "\n",
    "- The **measurement** represents observing the object’s **final velocity or momentum** at a particular point in time."
   ]
  },
  {
   "cell_type": "markdown",
   "metadata": {},
   "source": [
    "### Educational Value\n",
    "\n",
    "This program helps students understand the concept of **Newton’s second law of motion** by simulating how an object’s momentum or velocity changes under the influence of force. The Bloch sphere visualization provides an intuitive way to see how the qubit’s state evolves as force is applied, making it easier to explore the relationship between force, acceleration, and momentum in classical and quantum systems."
   ]
  },
  {
   "cell_type": "markdown",
   "metadata": {},
   "source": [
    "### Summary:\n",
    "\n",
    "**Newton’s laws of motion** are fundamental concepts in classical mechanics that describe how objects move under the influence of forces. Using quantum computing, we can simulate the changes in an object’s momentum or velocity using qubits and quantum gates. The Qiskit program models how force causes acceleration (or changes in momentum) and how the object’s motion evolves. By measuring the qubit’s state, we can observe the final motion of the object, providing a parallel between classical and quantum mechanical descriptions of motion."
   ]
  },
  {
   "cell_type": "markdown",
   "metadata": {},
   "source": []
  }
 ],
 "metadata": {
  "kernelspec": {
   "display_name": "cuda-quantum",
   "language": "python",
   "name": "python3"
  },
  "language_info": {
   "codemirror_mode": {
    "name": "ipython",
    "version": 3
   },
   "file_extension": ".py",
   "mimetype": "text/x-python",
   "name": "python",
   "nbconvert_exporter": "python",
   "pygments_lexer": "ipython3",
   "version": "3.10.15"
  }
 },
 "nbformat": 4,
 "nbformat_minor": 2
}
