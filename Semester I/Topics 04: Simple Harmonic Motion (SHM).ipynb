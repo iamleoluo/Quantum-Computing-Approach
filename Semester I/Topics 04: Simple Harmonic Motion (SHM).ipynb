{
 "cells": [
  {
   "cell_type": "markdown",
   "metadata": {},
   "source": [
    "# Topics 4: Simple Harmonic Motion (SHM)\n",
    "\n",
    "---\n",
    "\n",
    "### Classical Physics Topic: Simple Harmonic Motion (SHM)"
   ]
  },
  {
   "cell_type": "markdown",
   "metadata": {},
   "source": [
    "### Classical Physics Explanation\n",
    "\n",
    "**Simple Harmonic Motion (SHM)** describes the motion of systems where the restoring force is directly proportional to the displacement from the equilibrium position, such as springs, pendulums (for small angles), and oscillating masses. The motion follows a sinusoidal pattern, with the displacement, velocity, and acceleration oscillating with a fixed frequency determined by the system's properties.\n",
    "\n",
    "The key characteristics of SHM include:\n",
    "\n",
    "1. **Restoring Force**: A force always acts toward the equilibrium position.\n",
    "\n",
    "2. **Frequency and Period**: The motion oscillates with a characteristic frequency or period.\n",
    "\n",
    "3. **Energy Conservation**: Energy alternates between potential and kinetic forms but remains conserved.\n",
    "\n",
    "In quantum mechanics, oscillatory systems like the **quantum harmonic oscillator** exhibit quantized energy levels. Using quantum gates and qubits, we can model the behavior of a simple harmonic oscillator and represent the transitions between different oscillation states, demonstrating critical aspects of SHM."
   ]
  },
  {
   "cell_type": "markdown",
   "metadata": {},
   "source": [
    "### Quantum Computing Approach\n",
    "\n",
    "In quantum computing, a qubit can be used to describe the **oscillation states** of a harmonic oscillator. Using quantum gates, we can simulate the **cyclic behavior** of SHM, where the system oscillates between different energy levels or states. We can also model the **transition between kinetic and potential energy** using quantum operations.\n",
    "\n",
    "We can simulate the oscillatory motion and transitions in SHM by applying different quantum gates to the qubit. In this case, we will use the **Hadamard** and **Pauli-X gates** to represent the periodic motion and simulate the energy transitions.\n",
    "\n"
   ]
  },
  {
   "cell_type": "markdown",
   "metadata": {},
   "source": [
    "\n",
    "\n",
    "### Qiskit Program to Simulate Simple Harmonic Motion:\n",
    "\n",
    "In this Qiskit program, we will simulate SHM using a qubit, with quantum gates representing different phases of the oscillatory motion. We will measure the qubit’s state at various times to observe the periodic oscillation and compare it to classical SHM."
   ]
  },
  {
   "cell_type": "code",
   "execution_count": 42,
   "metadata": {},
   "outputs": [],
   "source": [
    "from qiskit import QuantumCircuit, transpile\n",
    "from qiskit_aer import Aer\n",
    "from qiskit.visualization import plot_histogram, plot_bloch_multivector\n",
    "import numpy as np\n",
    "import matplotlib.pyplot as plt"
   ]
  },
  {
   "cell_type": "markdown",
   "metadata": {},
   "source": [
    "### Detailed Program Breakdown\n",
    "\n",
    "#### Step 1: Create the Quantum Circuit\n",
    "\n",
    "- We start by creating a quantum circuit with **1 qubit**. This qubit represents the system undergoing SHM, such as a mass on a spring or a pendulum, where the qubit’s state will represent the oscillatory behavior over time."
   ]
  },
  {
   "cell_type": "code",
   "execution_count": 43,
   "metadata": {},
   "outputs": [
    {
     "data": {
      "image/png": "[encoded data removed]",
      "text/plain": [
       "<Figure size 143.647x117.056 with 1 Axes>"
      ]
     },
     "execution_count": 43,
     "metadata": {},
     "output_type": "execute_result"
    }
   ],
   "source": [
    "# Step 1: Create a quantum circuit with 1 qubit\n",
    "qc = QuantumCircuit(1)\n",
    "qc.draw(output='mpl')"
   ]
  },
  {
   "cell_type": "markdown",
   "metadata": {},
   "source": [
    "#### Step 2: Initialize the Qubit\n",
    "\n",
    "- We initialize the qubit in the |0⟩ state, representing the system's equilibrium position in SHM. The system is at rest at the equilibrium position, and the restoring force is zero."
   ]
  },
  {
   "cell_type": "code",
   "execution_count": 44,
   "metadata": {},
   "outputs": [
    {
     "data": {
      "image/png": "[encoded data removed]",
      "text/plain": [
       "<Figure size 185.453x117.056 with 1 Axes>"
      ]
     },
     "execution_count": 44,
     "metadata": {},
     "output_type": "execute_result"
    }
   ],
   "source": [
    "# Step 2: Initialize the qubit in the |0> state (representing the equilibrium position in SHM)\n",
    "qc.initialize([1, 0], 0)\n",
    "qc.draw('mpl')"
   ]
  },
  {
   "cell_type": "markdown",
   "metadata": {},
   "source": [
    "#### Step 3: Apply the Hadamard Gate (H Gate)\n",
    "\n",
    "- A **Hadamard gate** is applied to place the qubit in a **superposition** of |0⟩ and |1⟩. This simulates the system being displaced from equilibrium in both the positive and negative directions simultaneously. In classical SHM, this corresponds to the system oscillating away from equilibrium toward maximum positive and negative displacement.\n",
    "\n",
    "$$\n",
    "|\\psi⟩ = \\frac{1}{\\sqrt{2}} (|0⟩ + |1⟩)\n",
    "$$"
   ]
  },
  {
   "cell_type": "code",
   "execution_count": 45,
   "metadata": {},
   "outputs": [
    {
     "data": {
      "image/png": "[encoded data removed]",
      "text/plain": [
       "<Figure size 269.064x117.056 with 1 Axes>"
      ]
     },
     "execution_count": 45,
     "metadata": {},
     "output_type": "execute_result"
    }
   ],
   "source": [
    "# Step 3: Apply a Hadamard gate to represent the first phase of oscillation (moving the system into a superposition state)\n",
    "# This represents the system oscillating away from equilibrium (both in positive and negative directions)\n",
    "qc.h(0)\n",
    "qc.draw('mpl')"
   ]
  },
  {
   "cell_type": "markdown",
   "metadata": {},
   "source": [
    "#### Step 4: Apply a Phase Gate (P Gate)\n",
    "\n",
    "- We apply a **Phase gate** to introduce a **phase shift** in the qubit’s state. This models the **periodic nature of SHM**, where the system undergoes cyclic motion with time. The phase shift corresponds to the system’s displacement changing in a sinusoidal pattern, much like the periodic motion of a mass oscillating in SHM.\n",
    "\n",
    "  - A phase shift of $π/2$ (90 degrees) corresponds to one-quarter of the oscillation period, where the system reaches maximum displacement."
   ]
  },
  {
   "cell_type": "code",
   "execution_count": 46,
   "metadata": {},
   "outputs": [
    {
     "data": {
      "image/png": "[encoded data removed]",
      "text/plain": [
       "<Figure size 352.675x117.056 with 1 Axes>"
      ]
     },
     "execution_count": 46,
     "metadata": {},
     "output_type": "execute_result"
    }
   ],
   "source": [
    "# Step 4: Apply a Phase gate to introduce the phase change, simulating the periodic nature of SHM\n",
    "# The phase change represents the shift in the system's displacement (like a sinusoidal motion)\n",
    "qc.p(np.pi/2, 0)  # Phase shift of π/2 (90 degrees)\n",
    "qc.draw('mpl')"
   ]
  },
  {
   "cell_type": "markdown",
   "metadata": {},
   "source": [
    "#### Step 5: Apply the Pauli-X Gate (X Gate)\n",
    "\n",
    "- The **Pauli-X gate** is applied to the qubit, flipping its state. This simulates the **exchange of energy** between kinetic and potential forms during SHM. In classical SHM, energy oscillates between maximum kinetic energy (at the equilibrium position) and maximum potential energy (at maximum displacement). The Pauli-X gate models this energy exchange."
   ]
  },
  {
   "cell_type": "code",
   "execution_count": 47,
   "metadata": {},
   "outputs": [
    {
     "data": {
      "image/png": "[encoded data removed]",
      "text/plain": [
       "<Figure size 436.286x117.056 with 1 Axes>"
      ]
     },
     "execution_count": 47,
     "metadata": {},
     "output_type": "execute_result"
    }
   ],
   "source": [
    "# Step 5: Apply a Pauli-X gate to simulate the transition between kinetic and potential energy in SHM\n",
    "# This models the energy exchange during the oscillation\n",
    "qc.x(0)\n",
    "qc.draw('mpl')"
   ]
  },
  {
   "cell_type": "markdown",
   "metadata": {},
   "source": [
    "#### Step 6: Apply Another Phase Gate\n",
    "\n",
    "- Another **Phase gate** is applied to simulate further **oscillatory motion** of the system. This phase shift continues the periodic motion, representing the cyclic nature of SHM as the system moves between different displacement and velocity states."
   ]
  },
  {
   "cell_type": "code",
   "execution_count": 48,
   "metadata": {},
   "outputs": [
    {
     "data": {
      "image/png": "[encoded data removed]",
      "text/plain": [
       "<Figure size 519.897x117.056 with 1 Axes>"
      ]
     },
     "execution_count": 48,
     "metadata": {},
     "output_type": "execute_result"
    }
   ],
   "source": [
    "# Step 6: Apply another Phase gate to simulate further oscillatory motion\n",
    "qc.p(np.pi/2, 0)\n",
    "qc.draw('mpl')"
   ]
  },
  {
   "cell_type": "markdown",
   "metadata": {},
   "source": [
    "#### Step 7: Visualize the Bloch Sphere\n",
    "\n",
    "- To visualize the system’s state after applying these quantum gates, we use the **Bloch sphere** representation. The Bloch sphere helps us see the qubit’s state in 3D space, showing how it evolves as the system undergoes SHM."
   ]
  },
  {
   "cell_type": "code",
   "execution_count": 50,
   "metadata": {},
   "outputs": [],
   "source": [
    "# Step 7: Visualize the qubit's state on the Bloch sphere to observe the periodic motion\n",
    "state = Aer.get_backend('statevector_simulator')\n",
    "new_qc = transpile(qc, state)\n",
    "job = state.run(new_qc)\n",
    "final_state = job.result().get_statevector(qc)\n"
   ]
  },
  {
   "cell_type": "markdown",
   "metadata": {},
   "source": [
    "- Finally, we plot the measurement results using a histogram, which shows the probability of the system being measured in each state."
   ]
  },
  {
   "cell_type": "markdown",
   "metadata": {},
   "source": [
    "### Classical Physics Parallel\n",
    "\n",
    "In classical simple harmonic motion, the motion of a system is described by sinusoidal oscillations in displacement, velocity, and acceleration. These oscillations can be modeled as periodic functions of time, where energy is exchanged between kinetic and potential forms, and the system returns to its equilibrium position after each cycle.\n",
    "\n",
    "- The **Hadamard gate** creates a superposition of states, representing the system moving away from equilibrium in both directions (positive and negative displacement).\n",
    "- The **Phase gate** introduces a phase shift, simulating the periodic nature of SHM, where the system’s displacement changes cyclically.\n",
    "- The **Pauli-X gate** models the energy exchange between kinetic and potential forms during the oscillation.\n",
    "- The measurement represents observing the system’s state at a particular point in the SHM cycle."
   ]
  },
  {
   "cell_type": "markdown",
   "metadata": {},
   "source": [
    "### Educational Value\n",
    "\n",
    "This program helps students understand the concept of **simple harmonic motion** by using quantum computing to simulate the periodic oscillations and energy exchanges in SHM. The visualization on the Bloch sphere provides an intuitive way to see how the qubit’s state evolves as the system undergoes cyclic motion. This Qiskit simulation helps students explore the connection between classical oscillatory motion and quantum mechanics.\n"
   ]
  },
  {
   "cell_type": "markdown",
   "metadata": {},
   "source": [
    "\n",
    "\n",
    "### Summary\n",
    "\n",
    "The **simple harmonic motion (SHM)** of classical physics can be simulated using quantum computing principles. By representing the system’s oscillatory motion and energy exchanges with qubits, we can model the periodic behavior of SHM using quantum gates such as the Hadamard and Pauli-X gates. Using Qiskit, we can visualize the system’s state on the Bloch sphere and observe the periodic transitions between states, demonstrating the parallels between classical oscillatory motion and quantum mechanics."
   ]
  },
  {
   "cell_type": "markdown",
   "metadata": {},
   "source": []
  }
 ],
 "metadata": {
  "kernelspec": {
   "display_name": "cuquantum",
   "language": "python",
   "name": "python3"
  },
  "language_info": {
   "codemirror_mode": {
    "name": "ipython",
    "version": 3
   },
   "file_extension": ".py",
   "mimetype": "text/x-python",
   "name": "python",
   "nbconvert_exporter": "python",
   "pygments_lexer": "ipython3",
   "version": "3.9.18"
  }
 },
 "nbformat": 4,
 "nbformat_minor": 2
}
