{
 "cells": [
  {
   "cell_type": "markdown",
   "metadata": {},
   "source": [
    "# Topics 6: Quantum Harmonic Oscillator\n",
    "\n",
    "---\n",
    "\n",
    "## Classical Physics Explanation\n",
    "\n",
    "In classical mechanics, a **harmonic oscillator** is a system that experiences a restoring force proportional to the displacement from its equilibrium position. Common examples include a **mass on a spring** or a **pendulum** (for small angles). The system oscillates with a frequency determined by its physical parameters (mass, spring constant, etc.), and its motion can be described by sinusoidal functions of time.\n",
    "\n",
    "In quantum mechanics, the **quantum harmonic oscillator** is a fundamental system where a particle experiences a potential well in the shape of a parabola. The particle's energy levels in this well are quantized, meaning the oscillator can only occupy specific energy states. The quantum harmonic oscillator serves as a key model in quantum mechanics and underpins various phenomena, from molecular vibrations to quantum field theory."
   ]
  },
  {
   "cell_type": "markdown",
   "metadata": {},
   "source": [
    "## Quantum Computing Approach\n",
    "\n",
    "Quantum computers can simulate the **quantum harmonic oscillator** by representing the system’s possible states as **qubits**. Applying quantum gates allows us to simulate the transitions between different energy states, which correspond to the oscillator's quantized energy levels. We can also model the probability distribution of the particle's position, analogous to how we compute wavefunctions in quantum mechanics.\n",
    "\n"
   ]
  },
  {
   "cell_type": "markdown",
   "metadata": {},
   "source": [
    "\n",
    "\n",
    "## Qiskit Program to Simulate a Quantum Harmonic Oscillator\n",
    "\n",
    "In this Qiskit program, we will use a qubit to represent the quantum harmonic oscillator’s ground and excited states. We’ll apply quantum gates to simulate transitions between these energy levels and use a measurement to simulate the detection of the oscillator's position."
   ]
  },
  {
   "cell_type": "code",
   "execution_count": null,
   "metadata": {},
   "outputs": [],
   "source": [
    "from qiskit import QuantumCircuit, transpile\n",
    "from qiskit_aer import AerSimulator, StatevectorSimulator, QasmSimulator\n",
    "from qiskit.visualization import plot_histogram, plot_bloch_multivector\n",
    "import numpy as np\n",
    "import matplotlib.pyplot as plt"
   ]
  },
  {
   "cell_type": "markdown",
   "metadata": {},
   "source": [
    "### Detailed Program Breakdown\n",
    "\n",
    "#### Step 1: Create the Quantum Circuit\n",
    "\n",
    "- We create a quantum circuit with **1 qubit**, which will represent the state of the quantum harmonic oscillator. This qubit will undergo transformations that simulate the behavior of a particle in a quantum harmonic potential well."
   ]
  },
  {
   "cell_type": "code",
   "execution_count": 2,
   "metadata": {},
   "outputs": [],
   "source": [
    "# Step 1: Create a quantum circuit with 1 qubit\n",
    "qc = QuantumCircuit(1)\n"
   ]
  },
  {
   "cell_type": "markdown",
   "metadata": {},
   "source": [
    "#### Step 2: Initialize the Qubit\n",
    "\n",
    "- We initialize the qubit in the \\(|0\\rangle\\) state, representing the harmonic oscillator's ground state. In the ground state, the particle has the lowest possible energy."
   ]
  },
  {
   "cell_type": "code",
   "execution_count": 3,
   "metadata": {},
   "outputs": [
    {
     "data": {
      "text/plain": [
       "<qiskit.circuit.instructionset.InstructionSet at 0x7b132c6f00d0>"
      ]
     },
     "execution_count": 3,
     "metadata": {},
     "output_type": "execute_result"
    }
   ],
   "source": [
    "# Step 2: Initialize the qubit in the ground state (|0>)\n",
    "# The ground state of the harmonic oscillator corresponds to |0>\n",
    "qc.initialize([1, 0], 0)\n"
   ]
  },
  {
   "cell_type": "markdown",
   "metadata": {},
   "source": [
    "#### Step 3: Apply the Hadamard Gate (H Gate)\n",
    "\n",
    "- We apply a **Hadamard gate** to the qubit, which creates a **superposition** of the ground state \\(|0\\rangle\\) and the first excited state \\(|1\\rangle\\). This is analogous to the quantum harmonic oscillator being in a superposition of energy levels.\n",
    "\n",
    "  The resulting state will be\n",
    "\n",
    "$$\n",
    "|\\psi\\rangle = \\frac{1}{\\sqrt{2}} (|0\\rangle + |1\\rangle)\n",
    "$$\n",
    "\n",
    "This represents the particle existing simultaneously in the ground and first excited states, just like how quantum systems can exist in multiple states at once."
   ]
  },
  {
   "cell_type": "code",
   "execution_count": 4,
   "metadata": {},
   "outputs": [
    {
     "data": {
      "text/plain": [
       "<qiskit.circuit.instructionset.InstructionSet at 0x7b132c6b4e20>"
      ]
     },
     "execution_count": 4,
     "metadata": {},
     "output_type": "execute_result"
    }
   ],
   "source": [
    "\n",
    "# Step 3: Apply a Hadamard gate to put the qubit in superposition (representing a superposition of energy states)\n",
    "# This represents the oscillator being in a superposition of ground and first excited state\n",
    "qc.h(0)\n"
   ]
  },
  {
   "cell_type": "markdown",
   "metadata": {},
   "source": [
    "#### Step 4: Apply the Pauli-Z Gate (Z Gate)\n",
    "\n",
    "- We apply a **Pauli-Z gate** to introduce a **phase shift** in the qubit. This phase shift simulates the oscillatory dynamics of the quantum harmonic oscillator. In a classical harmonic oscillator, the oscillation phase changes over time, and in quantum mechanics, the wavefunction phase evolves."
   ]
  },
  {
   "cell_type": "code",
   "execution_count": 5,
   "metadata": {},
   "outputs": [
    {
     "data": {
      "text/plain": [
       "<qiskit.circuit.instructionset.InstructionSet at 0x7b132c6f0610>"
      ]
     },
     "execution_count": 5,
     "metadata": {},
     "output_type": "execute_result"
    }
   ],
   "source": [
    "\n",
    "# Step 4: Apply a Pauli-Z gate to introduce a phase shift (this simulates the dynamics of a quantum harmonic oscillator)\n",
    "qc.z(0)\n"
   ]
  },
  {
   "cell_type": "markdown",
   "metadata": {},
   "source": [
    "#### Step 5: Measurement\n",
    "\n",
    "- We measure the qubit to determine its energy state. After measurement, the qubit will collapse to either the \\(|0\\rangle\\) state (ground state) or the \\(|1\\rangle\\) state (first excited state). The probability of collapsing into each state depends on the superposition created earlier."
   ]
  },
  {
   "cell_type": "code",
   "execution_count": 6,
   "metadata": {},
   "outputs": [],
   "source": [
    "\n",
    "# Step 5: Measure the qubit to observe its energy state\n",
    "qc.measure_all()\n"
   ]
  },
  {
   "cell_type": "code",
   "execution_count": 7,
   "metadata": {},
   "outputs": [
    {
     "data": {
      "image/png": "[encoded data removed]",
      "text/plain": [
       "<Figure size 580.387x200.667 with 1 Axes>"
      ]
     },
     "execution_count": 7,
     "metadata": {},
     "output_type": "execute_result"
    }
   ],
   "source": [
    "\n",
    "# Draw the quantum circuit\n",
    "qc.draw(output='mpl')\n"
   ]
  },
  {
   "cell_type": "markdown",
   "metadata": {},
   "source": [
    "#### Step 6: Simulate the Circuit\n",
    "\n",
    "- We simulate the quantum circuit using the **Qasm simulator** from Qiskit’s Aer module. This simulator runs the quantum circuit multiple times (in this case, 1024 shots) and records the outcomes of each measurement."
   ]
  },
  {
   "cell_type": "code",
   "execution_count": 8,
   "metadata": {},
   "outputs": [],
   "source": [
    "\n",
    "# Step 6: Simulate the circuit using the Qasm simulator\n",
    "simulator = QasmSimulator()\n",
    "\n"
   ]
  },
  {
   "cell_type": "markdown",
   "metadata": {},
   "source": [
    "#### Step 7: Get the Results\n",
    "\n",
    "- After running the simulation, we retrieve the results showing how many times the qubit was measured in each state. These measurement outcomes represent the probability distribution of the oscillator’s energy states."
   ]
  },
  {
   "cell_type": "code",
   "execution_count": 9,
   "metadata": {},
   "outputs": [
    {
     "data": {
      "image/png": "[encoded data removed]",
      "text/plain": [
       "<Figure size 580.387x200.667 with 1 Axes>"
      ]
     },
     "execution_count": 9,
     "metadata": {},
     "output_type": "execute_result"
    }
   ],
   "source": [
    "\n",
    "# Step 7: Get the results of the simulation\n",
    "result = simulator.run(qc, shots=1024).result()\n",
    "counts = result.get_counts(qc)\n",
    "qc.draw(output='mpl')"
   ]
  },
  {
   "cell_type": "markdown",
   "metadata": {},
   "source": [
    "#### Step 8: Plot the Results\n",
    "\n",
    "- Finally, we visualize the measurement outcomes using a histogram. The histogram shows the probabilities of the qubit collapsing into the ground state \\(|0\\rangle\\) or the first excited state \\(|1\\rangle\\). These probabilities correspond to the particle's likelihood of being in each energy level."
   ]
  },
  {
   "cell_type": "code",
   "execution_count": 10,
   "metadata": {},
   "outputs": [
    {
     "name": "stdout",
     "output_type": "stream",
     "text": [
      "Measurement results: {'0': 500, '1': 524}\n"
     ]
    },
    {
     "data": {
      "image/png": "[encoded data removed]",
      "text/plain": [
       "<Figure size 640x480 with 1 Axes>"
      ]
     },
     "execution_count": 10,
     "metadata": {},
     "output_type": "execute_result"
    }
   ],
   "source": [
    "\n",
    "# Step 8: Print the results and plot a histogram of the measurement outcomes\n",
    "print(f\"Measurement results: {counts}\")\n",
    "plot_histogram(counts)"
   ]
  },
  {
   "cell_type": "markdown",
   "metadata": {},
   "source": [
    "## Classical Physics Parallel\n",
    "\n",
    "This Qiskit program simulates the behavior of a **quantum harmonic oscillator** using a qubit. Here's how the quantum operations correspond to classical and quantum harmonic oscillators:\n",
    "\n",
    "- The qubit being in the \\(|0\\rangle\\) state represents the **ground state** of the harmonic oscillator, where the system has its minimum energy.\n",
    "\n",
    "- The **Hadamard gate** creates a **superposition** of the ground and the first excited states, representing the system's existence in multiple energy levels simultaneously.\n",
    "\n",
    "- The **Pauli-Z gate** introduces a **phase shift**, mimicking the harmonic oscillator's oscillatory motion as time progresses."
   ]
  },
  {
   "cell_type": "markdown",
   "metadata": {},
   "source": [
    "## Educational Value\n",
    "\n",
    "This program helps students understand the concept of **quantum harmonic oscillators** by simulating transitions between energy states using quantum gates. Students can explore how qubits behave similarly to particles in a potential well by applying different gates. The program also demonstrates how quantum systems can exist in **superposition** and how their behavior differs from classical oscillators.\n",
    "\n"
   ]
  },
  {
   "cell_type": "markdown",
   "metadata": {},
   "source": [
    "\n",
    "\n",
    "## Summary\n",
    "\n",
    "The **harmonic oscillator** is a classical physics concept that can be effectively explained using quantum computing principles. By representing the harmonic oscillator’s ground and excited states as qubits, we can simulate its behavior using quantum gates. This simulation helps to illustrate the core ideas of **superposition**, **quantized energy levels**, and **phase shifts**, bridging the gap between classical oscillatory motion and quantum mechanical behavior. Using Qiskit, we can explore how these concepts translate to quantum systems interactively and intuitively."
   ]
  }
 ],
 "metadata": {
  "kernelspec": {
   "display_name": "cuquantum",
   "language": "python",
   "name": "python3"
  },
  "language_info": {
   "codemirror_mode": {
    "name": "ipython",
    "version": 3
   },
   "file_extension": ".py",
   "mimetype": "text/x-python",
   "name": "python",
   "nbconvert_exporter": "python",
   "pygments_lexer": "ipython3",
   "version": "3.9.18"
  }
 },
 "nbformat": 4,
 "nbformat_minor": 2
}
