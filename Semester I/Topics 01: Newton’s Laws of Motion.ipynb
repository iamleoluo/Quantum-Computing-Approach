{
 "cells": [
  {
   "cell_type": "markdown",
   "metadata": {},
   "source": [
    "# Topics 01: Newton's Laws of Motion\n",
    "\n",
    "---\n",
    "\n",
    "### Classical Physics Topic: Newton's Laws of Motion\n",
    "\n",
    "### Classical Physics Explanation\n",
    "\n",
    "**Newton's laws of motion** describe the relationship between a physical object and the forces acting on it and its motion in response to those forces. These three laws form the foundation of classical mechanics:\n",
    "\n",
    "1. **First Law (Inertia)**: An object will remain at rest or in uniform motion unless acted upon by a net external force.\n",
    "\n",
    "2. **Second Law (F=ma)**: The acceleration of an object is proportional to the net force acting on it and inversely proportional to its mass, F=ma.\n",
    "\n",
    "3. **Third Law (Action-Reaction)**: For every action, there is an equal and opposite reaction.\n",
    "\n",
    "In quantum mechanics, **momentum** and **force** are quantized, and quantum states can be used to represent the position and momentum of particles. By using quantum gates and qubits, we can model the effects of forces on a quantum particle and simulate the changes in motion as dictated by Newton's laws."
   ]
  },
  {
   "cell_type": "markdown",
   "metadata": {},
   "source": [
    "### Quantum Computing Approach\n",
    "\n",
    "In quantum computing, qubits can represent the **position** and **momentum** of a particle, and quantum gates can be used to simulate the **forces** acting on the particle. The evolution of the qubit's state under these forces can be used to model **Newton’s second law** by simulating how the quantum state (analogous to velocity or momentum) evolves under the influence of force (quantum gates).\n",
    "\n",
    "By applying **Hadamard gates**, **Pauli-X gates**, and **Phase gates**, we can simulate an object’s response to a force and observe how its motion changes over time.\n",
    "\n",
    "---\n",
    "\n",
    "### Qiskit Program to Simulate Newton’s Second Law (F = ma)\n",
    "\n",
    "In this Qiskit program, we will simulate **Newton’s second law of motion** using qubits. The qubit will represent the momentum of a particle, and quantum gates will simulate the forces acting on it. We will observe how the quantum state evolves in response to these forces and how the object’s motion changes."
   ]
  },
  {
   "cell_type": "code",
   "execution_count": 6,
   "metadata": {},
   "outputs": [],
   "source": [
    "from qiskit import QuantumCircuit\n",
    "from qiskit_aer import AerSimulator, StatevectorSimulator, QasmSimulator\n",
    "from qiskit.visualization import plot_histogram, plot_bloch_multivector\n",
    "import numpy as np\n",
    "import matplotlib.pyplot as plt"
   ]
  },
  {
   "cell_type": "code",
   "execution_count": 8,
   "metadata": {},
   "outputs": [
    {
     "name": "stdout",
     "output_type": "stream",
     "text": [
      "qiskit: 1.2.4\n",
      "qiskit_aer: 0.15.1\n",
      "numpy: 1.24.3\n",
      "matplotlib: 3.9.2\n"
     ]
    }
   ],
   "source": [
    "# Check the versions of installed packages\n",
    "import qiskit\n",
    "import qiskit_aer\n",
    "import numpy as np\n",
    "import matplotlib\n",
    "\n",
    "print(f\"qiskit: {qiskit.__version__}\")\n",
    "print(f\"qiskit_aer: {qiskit_aer.__version__}\")\n",
    "print(f\"numpy: {np.__version__}\")\n",
    "print(f\"matplotlib: {matplotlib.__version__}\")"
   ]
  },
  {
   "cell_type": "markdown",
   "metadata": {},
   "source": [
    "### Step 1: Create the Quantum Circuit\n",
    "\n",
    "- We start by creating a quantum circuit with **1 qubit**. The qubit will represent the **momentum** or **velocity** of an object, and its state will evolve based on the forces acting on the system (simulated by quantum gates)."
   ]
  },
  {
   "cell_type": "code",
   "execution_count": null,
   "metadata": {},
   "outputs": [],
   "source": [
    "\n",
    "# Step 1: Create a quantum circuit with 1 qubit\n",
    "qc = QuantumCircuit(1)\n",
    "plot_bloch_multivector(qc)"
   ]
  },
  {
   "cell_type": "markdown",
   "metadata": {},
   "source": [
    "### Step 2: Initialize the Qubit\n",
    "\n",
    "- We initialize the qubit in the |0⟩ state, representing the **initial velocity or momentum** of the system. In classical terms, this would correspond to the object being at rest (zero initial velocity or momentum)."
   ]
  },
  {
   "cell_type": "code",
   "execution_count": null,
   "metadata": {},
   "outputs": [],
   "source": [
    "qc.initialize([1, 0], 0)\n",
    "plot_bloch_multivector(qc)"
   ]
  },
  {
   "cell_type": "markdown",
   "metadata": {},
   "source": [
    "### Step 3: Apply the Hadamard Gate (H Gate)\n",
    "\n",
    "- A **Hadamard gate** is applied to the qubit, placing it in a **superposition** of |0⟩ and |1⟩. This represents the object gaining momentum or velocity due to applying an external force. The object can now move in both positive and negative directions.\n",
    "\n",
    "$$\n",
    "|\\psi⟩ = \\frac{1}{\\sqrt{2}}(|0⟩ + |1⟩)\n",
    "$$\n",
    "\n",
    "This gate simulates the **acceleration** of the object due to the applied force."
   ]
  },
  {
   "cell_type": "code",
   "execution_count": null,
   "metadata": {},
   "outputs": [],
   "source": [
    "# Step 3: Apply a Hadamard gate to put the qubit in superposition (simulating the object gaining velocity/momentum)\n",
    "# This represents the object under an external force, producing motion in both positive and negative directions\n",
    "qc.h(0)\n",
    "plot_bloch_multivector(qc)\n"
   ]
  },
  {
   "cell_type": "markdown",
   "metadata": {},
   "source": [
    "### Step 4: Apply a Phase Gate (P Gate)\n",
    "\n",
    "- A **Phase gate** is applied to introduce a **phase shift** in the qubit’s state, simulating the effect of **force** over time. In classical mechanics, this corresponds to the continuous application of force, which changes the object’s velocity (or momentum) as time progresses.\n",
    "\n",
    "A phase shift of $\\frac{π}{4}$ represents a slight **change in momentum** or **velocity** due to the applied force."
   ]
  },
  {
   "cell_type": "code",
   "execution_count": null,
   "metadata": {},
   "outputs": [],
   "source": [
    "# Step 4: Apply a Phase gate to simulate the effect of force over time (analogous to changing velocity/momentum)\n",
    "# The phase shift represents the change in motion due to the applied force\n",
    "qc.p(np.pi/4, 0)\n",
    "plot_bloch_multivector(qc)\n"
   ]
  },
  {
   "cell_type": "markdown",
   "metadata": {},
   "source": [
    "### Step 5: Apply the Pauli-X Gate (X Gate)\n",
    "\n",
    "- The **Pauli-X gate** is applied to flip the qubit’s state, representing the **reaction force** as per **Newton’s third law**. When a force is applied to an object, there is an equal and opposite reaction. This gate simulates the **recoil** or **opposite motion** of the object as a result of the applied force."
   ]
  },
  {
   "cell_type": "code",
   "execution_count": null,
   "metadata": {},
   "outputs": [],
   "source": [
    "# Step 5: Apply a Pauli-X gate to simulate the reaction force (Newton’s Third Law)\n",
    "# This simulates the opposite reaction, such as the recoil of an object, by flipping the qubit’s state\n",
    "qc.x(0)\n",
    "plot_bloch_multivector(qc)\n"
   ]
  },
  {
   "cell_type": "markdown",
   "metadata": {},
   "source": [
    "### Step 6: Apply Another Phase Gate\n",
    "\n",
    "- Another **Phase gate** is applied to simulate further **changes in motion** due to the continued application of force. This phase shift corresponds to the object accelerating as the force is applied over a longer period."
   ]
  },
  {
   "cell_type": "code",
   "execution_count": null,
   "metadata": {},
   "outputs": [],
   "source": [
    "# Step 6: Apply another Phase gate to simulate further motion due to continued force\n",
    "qc.p(np.pi/4, 0)\n",
    "plot_bloch_multivector(qc)\n"
   ]
  },
  {
   "cell_type": "markdown",
   "metadata": {},
   "source": [
    "### Step 7: Visualize the Bloch Sphere\n",
    "\n",
    "- To visualize the system’s state after applying these quantum gates, we use the **Bloch sphere** representation. The Bloch sphere helps us see the qubit’s state in 3D space, showing how its momentum (or velocity) evolves as force is applied."
   ]
  },
  {
   "cell_type": "code",
   "execution_count": null,
   "metadata": {},
   "outputs": [],
   "source": [
    "# Step 7: Visualize the qubit's state on the Bloch sphere to observe the effect of the applied forces\n",
    "simulator = StatevectorSimulator()\n",
    "job = simulator.run(qc).result()\n",
    "final_state = job.get_statevector()\n",
    "\n",
    "plot_bloch_multivector(final_state)\n"
   ]
  },
  {
   "cell_type": "markdown",
   "metadata": {},
   "source": [
    "### Step 8: Measurement\n",
    "\n",
    "- Finally, we measure the qubit to observe the **final momentum state** of the object. The measurement collapses the qubit into either |0⟩ (representing a stationary state) or |1⟩ (representing motion with momentum). This is analogous to observing the object’s velocity or momentum at a particular point after applying the forces."
   ]
  },
  {
   "cell_type": "code",
   "execution_count": null,
   "metadata": {},
   "outputs": [],
   "source": [
    "# Step 8: Measure the qubit to observe the final momentum state\n",
    "qc.measure_all()\n"
   ]
  },
  {
   "cell_type": "markdown",
   "metadata": {},
   "source": [
    "### Step 9: Simulate the Measurement and Plot the Results\n",
    "\n",
    "- We simulate the quantum circuit using the **Qasm simulator**, which runs the circuit multiple times and records the measurement outcomes. The results represent the **probability distribution** of the object being in different momentum states after applying the forces."
   ]
  },
  {
   "cell_type": "code",
   "execution_count": null,
   "metadata": {},
   "outputs": [],
   "source": [
    "# Step 9: Simulate the measurement and plot the results\n",
    "simulator = QasmSimulator()\n",
    "result = simulator.run(qc, shots=1024).result()\n",
    "counts = result.get_counts()\n"
   ]
  },
  {
   "cell_type": "markdown",
   "metadata": {},
   "source": [
    "- Finally, we plot the measurement results using a **histogram** to visualize the probability of the object being in different momentum states."
   ]
  },
  {
   "cell_type": "code",
   "execution_count": null,
   "metadata": {},
   "outputs": [],
   "source": [
    "# Print the measurement results and plot the histogram\n",
    "print(f\"Measurement results: {counts}\")\n",
    "plot_histogram(counts)\n"
   ]
  },
  {
   "cell_type": "code",
   "execution_count": null,
   "metadata": {},
   "outputs": [],
   "source": [
    "# Draw the quantum circuit\n",
    "qc.draw(output='mpl')"
   ]
  },
  {
   "cell_type": "markdown",
   "metadata": {},
   "source": [
    "### Classical Physics Parallel\n",
    "\n",
    "In classical physics, **Newton’s second law of motion** describes how the **velocity** or **momentum** of an object changes in response to a force. The force applied to an object causes an acceleration proportional to the force and inversely proportional to the object’s mass. In this Qiskit simulation, we use qubits to model the motion of an object under the influence of force:\n",
    "\n",
    "- The **Hadamard gate** represents the object **gaining momentum** due to the application of force.\n",
    "\n",
    "- The **Phase gate** models the **continuous effect of force** over time, changing the object’s motion.\n",
    "\n",
    "- The **Pauli-X gate** simulates the **reaction force** per Newton’s third law, where the object moves in the opposite direction due to the applied force.\n",
    "\n",
    "- The **measurement** represents observing the object’s **final velocity or momentum** at a particular point in time."
   ]
  },
  {
   "cell_type": "markdown",
   "metadata": {},
   "source": [
    "### Educational Value\n",
    "\n",
    "This program helps students understand the concept of **Newton’s second law of motion** by simulating how an object’s momentum or velocity changes under the influence of force. The Bloch sphere visualization provides an intuitive way to see how the qubit’s state evolves as force is applied, making it easier to explore the relationship between force, acceleration, and momentum in classical and quantum systems."
   ]
  },
  {
   "cell_type": "markdown",
   "metadata": {},
   "source": [
    "### Summary:\n",
    "\n",
    "**Newton’s laws of motion** are fundamental concepts in classical mechanics that describe how objects move under the influence of forces. Using quantum computing, we can simulate the changes in an object’s momentum or velocity using qubits and quantum gates. The Qiskit program models how force causes acceleration (or changes in momentum) and how the object’s motion evolves. By measuring the qubit’s state, we can observe the final motion of the object, providing a parallel between classical and quantum mechanical descriptions of motion."
   ]
  },
  {
   "cell_type": "markdown",
   "metadata": {},
   "source": []
  }
 ],
 "metadata": {
  "kernelspec": {
   "display_name": "cuquantum",
   "language": "python",
   "name": "python3"
  },
  "language_info": {
   "codemirror_mode": {
    "name": "ipython",
    "version": 3
   },
   "file_extension": ".py",
   "mimetype": "text/x-python",
   "name": "python",
   "nbconvert_exporter": "python",
   "pygments_lexer": "ipython3",
   "version": "3.9.18"
  }
 },
 "nbformat": 4,
 "nbformat_minor": 2
}
