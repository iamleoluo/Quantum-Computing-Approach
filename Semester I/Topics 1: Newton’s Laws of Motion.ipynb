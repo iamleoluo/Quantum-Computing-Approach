{
 "cells": [
  {
   "cell_type": "markdown",
   "metadata": {},
   "source": [
    "# Topics 1: Newton's Laws of Motion\n",
    "\n",
    "---\n",
    "\n",
    "### Classical Physics Topic: Newton's Laws of Motion\n",
    "\n",
    "### Classical Physics Explanation\n",
    "\n",
    "**Newton's laws of motion** describe the relationship between a physical object and the forces acting on it and its motion in response to those forces. These three laws form the foundation of classical mechanics:\n",
    "\n",
    "1. **First Law (Inertia)**: An object will remain at rest or in uniform motion unless acted upon by a net external force.\n",
    "\n",
    "2. **Second Law (F=ma)**: The acceleration of an object is proportional to the net force acting on it and inversely proportional to its mass, F=ma.\n",
    "\n",
    "3. **Third Law (Action-Reaction)**: For every action, there is an equal and opposite reaction.\n",
    "\n",
    "In quantum mechanics, **momentum** and **force** are quantized, and quantum states can be used to represent the position and momentum of particles. By using quantum gates and qubits, we can model the effects of forces on a quantum particle and simulate the changes in motion as dictated by Newton's laws."
   ]
  },
  {
   "cell_type": "markdown",
   "metadata": {},
   "source": [
    "### Quantum Computing Approach\n",
    "\n",
    "In quantum computing, qubits can represent the **position** and **momentum** of a particle, and quantum gates can be used to simulate the **forces** acting on the particle. The evolution of the qubit's state under these forces can be used to model **Newton’s second law** by simulating how the quantum state (analogous to velocity or momentum) evolves under the influence of force (quantum gates).\n",
    "\n",
    "By applying **Hadamard gates**, **Pauli-X gates**, and **Phase gates**, we can simulate an object’s response to a force and observe how its motion changes over time.\n",
    "\n",
    "---\n",
    "\n",
    "### Qiskit Program to Simulate Newton’s Second Law (F = ma)\n",
    "\n",
    "In this Qiskit program, we will simulate **Newton’s second law of motion** using qubits. The qubit will represent the momentum of a particle, and quantum gates will simulate the forces acting on it. We will observe how the quantum state evolves in response to these forces and how the object’s motion changes."
   ]
  },
  {
   "cell_type": "code",
   "execution_count": 1,
   "metadata": {},
   "outputs": [
    {
     "ename": "NameError",
     "evalue": "name 'StatevectorSimulator' is not defined",
     "output_type": "error",
     "traceback": [
      "\u001b[0;31m---------------------------------------------------------------------------\u001b[0m",
      "\u001b[0;31mNameError\u001b[0m                                 Traceback (most recent call last)",
      "Cell \u001b[0;32mIn[1], line 28\u001b[0m\n\u001b[1;32m     25\u001b[0m qc\u001b[38;5;241m.\u001b[39mp(np\u001b[38;5;241m.\u001b[39mpi\u001b[38;5;241m/\u001b[39m\u001b[38;5;241m4\u001b[39m, \u001b[38;5;241m0\u001b[39m)\n\u001b[1;32m     27\u001b[0m \u001b[38;5;66;03m# Step 7: Visualize the qubit's state on the Bloch sphere to observe the effect of the applied forces\u001b[39;00m\n\u001b[0;32m---> 28\u001b[0m simulator \u001b[38;5;241m=\u001b[39m \u001b[43mStatevectorSimulator\u001b[49m()\n\u001b[1;32m     29\u001b[0m job \u001b[38;5;241m=\u001b[39m simulator\u001b[38;5;241m.\u001b[39mrun(qc)\u001b[38;5;241m.\u001b[39mresult()\n\u001b[1;32m     30\u001b[0m final_state \u001b[38;5;241m=\u001b[39m job\u001b[38;5;241m.\u001b[39mget_statevector()\n",
      "\u001b[0;31mNameError\u001b[0m: name 'StatevectorSimulator' is not defined"
     ]
    }
   ],
   "source": [
    "from qiskit import QuantumCircuit\n",
    "from qiskit_aer import AerSimulator\n",
    "from qiskit.visualization import plot_histogram, plot_bloch_multivector\n",
    "import numpy as np\n",
    "\n",
    "# Step 1: Create a quantum circuit with 1 qubit\n",
    "qc = QuantumCircuit(1)\n",
    "\n",
    "# Step 2: Initialize the qubit in the |0> state (representing zero initial velocity or momentum)\n",
    "qc.initialize([1, 0], 0)\n",
    "\n",
    "# Step 3: Apply a Hadamard gate to put the qubit in superposition (simulating the object gaining velocity/momentum)\n",
    "# This represents the object under an external force, producing motion in both positive and negative directions\n",
    "qc.h(0)\n",
    "\n",
    "# Step 4: Apply a Phase gate to simulate the effect of force over time (analogous to changing velocity/momentum)\n",
    "# The phase shift represents the change in motion due to the applied force\n",
    "qc.p(np.pi/4, 0)\n",
    "\n",
    "# Step 5: Apply a Pauli-X gate to simulate the reaction force (Newton’s Third Law)\n",
    "# This simulates the opposite reaction, such as the recoil of an object, by flipping the qubit’s state\n",
    "qc.x(0)\n",
    "\n",
    "# Step 6: Apply another Phase gate to simulate further motion due to continued force\n",
    "qc.p(np.pi/4, 0)\n",
    "\n",
    "# Step 7: Visualize the qubit's state on the Bloch sphere to observe the effect of the applied forces\n",
    "simulator = StatevectorSimulator()\n",
    "job = simulator.run(qc).result()\n",
    "final_state = job.get_statevector()\n",
    "\n",
    "plot_bloch_multivector(final_state)\n",
    "\n",
    "# Step 8: Measure the qubit to observe the final momentum state\n",
    "qc.measure_all()\n",
    "\n",
    "# Step 9: Simulate the measurement and plot the results\n",
    "simulator = QasmSimulator()\n",
    "result = simulator.run(qc, shots=1024).result()\n",
    "counts = result.get_counts()\n",
    "\n",
    "# Print the measurement results and plot the histogram\n",
    "print(f\"Measurement results: {counts}\")\n",
    "plot_histogram(counts)\n",
    "\n",
    "# Draw the quantum circuit\n",
    "qc.draw(output='mpl')"
   ]
  },
  {
   "cell_type": "code",
   "execution_count": null,
   "metadata": {},
   "outputs": [],
   "source": []
  }
 ],
 "metadata": {
  "kernelspec": {
   "display_name": "cuquantum",
   "language": "python",
   "name": "python3"
  },
  "language_info": {
   "codemirror_mode": {
    "name": "ipython",
    "version": 3
   },
   "file_extension": ".py",
   "mimetype": "text/x-python",
   "name": "python",
   "nbconvert_exporter": "python",
   "pygments_lexer": "ipython3",
   "version": "3.9.18"
  }
 },
 "nbformat": 4,
 "nbformat_minor": 2
}
